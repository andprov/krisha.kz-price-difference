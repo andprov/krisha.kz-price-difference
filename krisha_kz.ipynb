{
 "cells": [
  {
   "cell_type": "code",
   "execution_count": null,
   "metadata": {
    "collapsed": false
   },
   "outputs": [],
   "source": [
    "%load_ext autoreload\n",
    "%autoreload 2\n",
    "\n",
    "import pandas as pd\n",
    "import matplotlib.pyplot as plt\n",
    "import scr as ps"
   ]
  },
  {
   "cell_type": "code",
   "execution_count": null,
   "metadata": {
    "collapsed": false
   },
   "outputs": [],
   "source": [
    "ps.rental_data(\n",
    "    city=1,\n",
    "    furniture=True,\n",
    "    room=1,\n",
    "    price_from=100000,\n",
    "    price_to=300000,\n",
    "    owner=True,\n",
    ")"
   ]
  },
  {
   "cell_type": "code",
   "execution_count": null,
   "metadata": {},
   "outputs": [],
   "source": [
    "flats_old = pd.read_csv(\"data/2023-01-01_flats.csv\")\n",
    "flats_new = pd.read_csv(\"data/2023-01-01_flats.csv\")\n",
    "\n",
    "print(\n",
    "    f\"Старых объявлений: {len(flats_old)}\\n\"\n",
    "    f\"Новых объявлений: {len(flats_new)}\"\n",
    ")\n",
    "\n",
    "df = flats_old.merge(\n",
    "    flats_new,\n",
    "    how=\"outer\",\n",
    "    on=[\"id\", \"link\", \"uuid\"],\n",
    "    suffixes=(\"_old\", \"_new\"),\n",
    ")\n",
    "\n",
    "df[\"price_diff\"] = df[\"price_new\"] - df[\"price_old\"]\n",
    "df = df[[\"id\", \"price_old\", \"price_new\", \"price_diff\", \"link\"]]\n",
    "price_difference = df.query(\"price_diff != 0\")\n",
    "price_difference\n"
   ]
  },
  {
   "cell_type": "code",
   "execution_count": null,
   "metadata": {
    "collapsed": false
   },
   "outputs": [],
   "source": [
    "old = df[\"price_old\"]\n",
    "new = df[\"price_new\"]"
   ]
  },
  {
   "cell_type": "code",
   "execution_count": null,
   "metadata": {},
   "outputs": [],
   "source": [
    "font = {\"family\": \"sans serif\", \"size\": 16}\n",
    "plt.figure(figsize=(10, 5))\n",
    "plt.hist([old, new], bins=15, color=[\"Blue\", \"Orange\"], label=[\"Old\", \"New\"])\n",
    "plt.xlabel(\"Стоимость\", fontdict=font)\n",
    "plt.ylabel(\"Кол-во объявлений\", fontdict=font)\n",
    "plt.legend()\n",
    "plt.show()\n"
   ]
  },
  {
   "cell_type": "code",
   "execution_count": null,
   "metadata": {},
   "outputs": [],
   "source": [
    "old.value_counts(sort=True).head(10)"
   ]
  },
  {
   "cell_type": "code",
   "execution_count": null,
   "metadata": {},
   "outputs": [],
   "source": [
    "new.value_counts(sort=True).head(10)"
   ]
  }
 ],
 "metadata": {
  "kernelspec": {
   "display_name": ".venv",
   "language": "python",
   "name": "python3"
  },
  "language_info": {
   "codemirror_mode": {
    "name": "ipython",
    "version": 3
   },
   "file_extension": ".py",
   "mimetype": "text/x-python",
   "name": "python",
   "nbconvert_exporter": "python",
   "pygments_lexer": "ipython3",
   "version": "3.11.0"
  },
  "vscode": {
   "interpreter": {
    "hash": "03e7a1c53dadff3f84f6a89c9bb1f62019e993b74057ae30da704eb2bc2229e3"
   }
  }
 },
 "nbformat": 4,
 "nbformat_minor": 1
}
